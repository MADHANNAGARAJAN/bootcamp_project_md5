{
  "nbformat": 4,
  "nbformat_minor": 0,
  "metadata": {
    "colab": {
      "name": "md5strdata.ipynb",
      "provenance": []
    },
    "kernelspec": {
      "name": "python3",
      "display_name": "Python 3"
    },
    "language_info": {
      "name": "python"
    }
  },
  "cells": [
    {
      "cell_type": "code",
      "metadata": {
        "colab": {
          "base_uri": "https://localhost:8080/"
        },
        "id": "IFLHjb7g__oB",
        "outputId": "05f93ecb-cda5-4c43-e239-a41755a7bd98"
      },
      "source": [
        "import hashlib\n",
        "mystring=input('Enter string to hash:')\n",
        "hash_obj=hashlib.md5(mystring.encode())\n",
        "print(hash_obj.hexdigest())\n"
      ],
      "execution_count": 1,
      "outputs": [
        {
          "output_type": "stream",
          "text": [
            "Enter string to hash:Hello World\n",
            "b10a8db164e0754105b7a99be72e3fe5\n"
          ],
          "name": "stdout"
        }
      ]
    }
  ]
}